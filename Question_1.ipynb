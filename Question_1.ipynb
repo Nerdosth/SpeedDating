{
 "cells": [
  {
   "cell_type": "markdown",
   "metadata": {},
   "source": [
    "# Question 1"
   ]
  },
  {
   "cell_type": "markdown",
   "metadata": {},
   "source": [
    "Each speed dating participant was given a survey to fill out at the beginning of the event and were asked to rate themselves in five qualities: attractiveness, sincerity, intelligence, fun, and ambition, on a scale of 1-10. Throughout the night participants were able to rate their partners in these five categories as well. "
   ]
  },
  {
   "cell_type": "markdown",
   "metadata": {},
   "source": [
    "Of the total participants, how did matched and unmatched participants rate themselves and their partners in each of the five surveyed attributes: attractiveness, sincerity, intelligence, fun, and ambition?\n",
    "- Matched participants rated partners high, as expected. Favorably across all attributes but particularly in attractiveness\n",
    "- Unmatched participants rated themselves higher, most notably in intelligence\n",
    "- Matched and unmatched participants rated themselves similarly across all attributes\n",
    " "
   ]
  },
  {
   "cell_type": "code",
   "execution_count": 415,
   "metadata": {},
   "outputs": [],
   "source": [
    "#importing dependencies\n",
    "import pandas as pd\n",
    "import matplotlib.pyplot as plt\n",
    "import scipy.stats as st\n",
    "import numpy as np\n",
    "from scipy.stats import linregress\n",
    "import seaborn as sns"
   ]
  },
  {
   "cell_type": "code",
   "execution_count": 416,
   "metadata": {},
   "outputs": [
    {
     "data": {
      "text/html": [
       "<div>\n",
       "<style scoped>\n",
       "    .dataframe tbody tr th:only-of-type {\n",
       "        vertical-align: middle;\n",
       "    }\n",
       "\n",
       "    .dataframe tbody tr th {\n",
       "        vertical-align: top;\n",
       "    }\n",
       "\n",
       "    .dataframe thead th {\n",
       "        text-align: right;\n",
       "    }\n",
       "</style>\n",
       "<table border=\"1\" class=\"dataframe\">\n",
       "  <thead>\n",
       "    <tr style=\"text-align: right;\">\n",
       "      <th></th>\n",
       "      <th>Unique ID</th>\n",
       "      <th>Gender</th>\n",
       "      <th>Wave</th>\n",
       "      <th>Match</th>\n",
       "      <th>Same Race</th>\n",
       "      <th>Age of Partner</th>\n",
       "      <th>Race of Partner</th>\n",
       "      <th>Partner Preference Attractive</th>\n",
       "      <th>Partner Preference Sincere</th>\n",
       "      <th>Partner Preference Intelligence</th>\n",
       "      <th>...</th>\n",
       "      <th>Own Rating Ambition</th>\n",
       "      <th>Decision</th>\n",
       "      <th>Estimation of Matches</th>\n",
       "      <th>Number of Dates</th>\n",
       "      <th>Your Preference Attractive Post-Date</th>\n",
       "      <th>Your Preference Sincere Post-Date</th>\n",
       "      <th>Your Preference Intelligence Post-Date</th>\n",
       "      <th>Your Preference Fun Post-Date</th>\n",
       "      <th>Your Preference Ambition Post-Date</th>\n",
       "      <th>Your Preference Shared Interests Post-Date</th>\n",
       "    </tr>\n",
       "  </thead>\n",
       "  <tbody>\n",
       "    <tr>\n",
       "      <th>0</th>\n",
       "      <td>1</td>\n",
       "      <td>0</td>\n",
       "      <td>1</td>\n",
       "      <td>0</td>\n",
       "      <td>0</td>\n",
       "      <td>27.0</td>\n",
       "      <td>2.0</td>\n",
       "      <td>35.0</td>\n",
       "      <td>20.0</td>\n",
       "      <td>20.0</td>\n",
       "      <td>...</td>\n",
       "      <td>7.0</td>\n",
       "      <td>1</td>\n",
       "      <td>4.0</td>\n",
       "      <td>NaN</td>\n",
       "      <td>15.0</td>\n",
       "      <td>20.0</td>\n",
       "      <td>20.0</td>\n",
       "      <td>15.0</td>\n",
       "      <td>15.0</td>\n",
       "      <td>15.0</td>\n",
       "    </tr>\n",
       "    <tr>\n",
       "      <th>1</th>\n",
       "      <td>1</td>\n",
       "      <td>0</td>\n",
       "      <td>1</td>\n",
       "      <td>0</td>\n",
       "      <td>0</td>\n",
       "      <td>22.0</td>\n",
       "      <td>2.0</td>\n",
       "      <td>60.0</td>\n",
       "      <td>0.0</td>\n",
       "      <td>0.0</td>\n",
       "      <td>...</td>\n",
       "      <td>7.0</td>\n",
       "      <td>1</td>\n",
       "      <td>4.0</td>\n",
       "      <td>NaN</td>\n",
       "      <td>15.0</td>\n",
       "      <td>20.0</td>\n",
       "      <td>20.0</td>\n",
       "      <td>15.0</td>\n",
       "      <td>15.0</td>\n",
       "      <td>15.0</td>\n",
       "    </tr>\n",
       "    <tr>\n",
       "      <th>2</th>\n",
       "      <td>1</td>\n",
       "      <td>0</td>\n",
       "      <td>1</td>\n",
       "      <td>1</td>\n",
       "      <td>1</td>\n",
       "      <td>22.0</td>\n",
       "      <td>4.0</td>\n",
       "      <td>19.0</td>\n",
       "      <td>18.0</td>\n",
       "      <td>19.0</td>\n",
       "      <td>...</td>\n",
       "      <td>7.0</td>\n",
       "      <td>1</td>\n",
       "      <td>4.0</td>\n",
       "      <td>NaN</td>\n",
       "      <td>15.0</td>\n",
       "      <td>20.0</td>\n",
       "      <td>20.0</td>\n",
       "      <td>15.0</td>\n",
       "      <td>15.0</td>\n",
       "      <td>15.0</td>\n",
       "    </tr>\n",
       "    <tr>\n",
       "      <th>3</th>\n",
       "      <td>1</td>\n",
       "      <td>0</td>\n",
       "      <td>1</td>\n",
       "      <td>1</td>\n",
       "      <td>0</td>\n",
       "      <td>23.0</td>\n",
       "      <td>2.0</td>\n",
       "      <td>30.0</td>\n",
       "      <td>5.0</td>\n",
       "      <td>15.0</td>\n",
       "      <td>...</td>\n",
       "      <td>7.0</td>\n",
       "      <td>1</td>\n",
       "      <td>4.0</td>\n",
       "      <td>NaN</td>\n",
       "      <td>15.0</td>\n",
       "      <td>20.0</td>\n",
       "      <td>20.0</td>\n",
       "      <td>15.0</td>\n",
       "      <td>15.0</td>\n",
       "      <td>15.0</td>\n",
       "    </tr>\n",
       "    <tr>\n",
       "      <th>4</th>\n",
       "      <td>1</td>\n",
       "      <td>0</td>\n",
       "      <td>1</td>\n",
       "      <td>1</td>\n",
       "      <td>0</td>\n",
       "      <td>24.0</td>\n",
       "      <td>3.0</td>\n",
       "      <td>30.0</td>\n",
       "      <td>10.0</td>\n",
       "      <td>20.0</td>\n",
       "      <td>...</td>\n",
       "      <td>7.0</td>\n",
       "      <td>1</td>\n",
       "      <td>4.0</td>\n",
       "      <td>NaN</td>\n",
       "      <td>15.0</td>\n",
       "      <td>20.0</td>\n",
       "      <td>20.0</td>\n",
       "      <td>15.0</td>\n",
       "      <td>15.0</td>\n",
       "      <td>15.0</td>\n",
       "    </tr>\n",
       "  </tbody>\n",
       "</table>\n",
       "<p>5 rows × 72 columns</p>\n",
       "</div>"
      ],
      "text/plain": [
       "   Unique ID  Gender  Wave  Match  Same Race  Age of Partner  Race of Partner  \\\n",
       "0          1       0     1      0          0            27.0              2.0   \n",
       "1          1       0     1      0          0            22.0              2.0   \n",
       "2          1       0     1      1          1            22.0              4.0   \n",
       "3          1       0     1      1          0            23.0              2.0   \n",
       "4          1       0     1      1          0            24.0              3.0   \n",
       "\n",
       "   Partner Preference Attractive  Partner Preference Sincere  \\\n",
       "0                           35.0                        20.0   \n",
       "1                           60.0                         0.0   \n",
       "2                           19.0                        18.0   \n",
       "3                           30.0                         5.0   \n",
       "4                           30.0                        10.0   \n",
       "\n",
       "   Partner Preference Intelligence  ...  Own Rating Ambition  Decision  \\\n",
       "0                             20.0  ...                  7.0         1   \n",
       "1                              0.0  ...                  7.0         1   \n",
       "2                             19.0  ...                  7.0         1   \n",
       "3                             15.0  ...                  7.0         1   \n",
       "4                             20.0  ...                  7.0         1   \n",
       "\n",
       "   Estimation of Matches  Number of Dates  \\\n",
       "0                    4.0              NaN   \n",
       "1                    4.0              NaN   \n",
       "2                    4.0              NaN   \n",
       "3                    4.0              NaN   \n",
       "4                    4.0              NaN   \n",
       "\n",
       "   Your Preference Attractive Post-Date  Your Preference Sincere Post-Date  \\\n",
       "0                                  15.0                               20.0   \n",
       "1                                  15.0                               20.0   \n",
       "2                                  15.0                               20.0   \n",
       "3                                  15.0                               20.0   \n",
       "4                                  15.0                               20.0   \n",
       "\n",
       "   Your Preference Intelligence Post-Date  Your Preference Fun Post-Date  \\\n",
       "0                                    20.0                           15.0   \n",
       "1                                    20.0                           15.0   \n",
       "2                                    20.0                           15.0   \n",
       "3                                    20.0                           15.0   \n",
       "4                                    20.0                           15.0   \n",
       "\n",
       "   Your Preference Ambition Post-Date  \\\n",
       "0                                15.0   \n",
       "1                                15.0   \n",
       "2                                15.0   \n",
       "3                                15.0   \n",
       "4                                15.0   \n",
       "\n",
       "   Your Preference Shared Interests Post-Date  \n",
       "0                                        15.0  \n",
       "1                                        15.0  \n",
       "2                                        15.0  \n",
       "3                                        15.0  \n",
       "4                                        15.0  \n",
       "\n",
       "[5 rows x 72 columns]"
      ]
     },
     "execution_count": 416,
     "metadata": {},
     "output_type": "execute_result"
    }
   ],
   "source": [
    "#import the dataset and display the first fiev rows to validate\n",
    "dating_data = pd.read_csv('Output/CleanedSpeed.csv')\n",
    "dating_data.head()"
   ]
  },
  {
   "cell_type": "markdown",
   "metadata": {},
   "source": [
    "When looking at the overall data, only 16% of total speed dating participants recieved matches."
   ]
  },
  {
   "cell_type": "code",
   "execution_count": 417,
   "metadata": {},
   "outputs": [
    {
     "data": {
      "text/plain": [
       "(-1.1002784943915884,\n",
       " 1.1058480245432147,\n",
       " -1.1057241790621741,\n",
       " 1.1064639539042107)"
      ]
     },
     "execution_count": 417,
     "metadata": {},
     "output_type": "execute_result"
    },
    {
     "data": {
      "image/png": "[encoded data removed]",
      "text/plain": [
       "<Figure size 432x288 with 1 Axes>"
      ]
     },
     "metadata": {},
     "output_type": "display_data"
    }
   ],
   "source": [
    "#To look at the data in comparison of matched versus unmatched:\n",
    "\n",
    "#Create a variable for the labels you would like to use for your pie chart\n",
    "labels = [\"Unmatched\", \"Matched\"]\n",
    "\n",
    "#Group the data based on the specific column (\"Matched\", in this case) and then plot the data using pandas. \n",
    "# Include a legend, title, percentages, and pie chart angle\n",
    "dating_data.groupby([\"Match\"]).count().plot(kind=\"pie\", y= \"Unique ID\", labels = labels, autopct=\"%1.0f%%\", legend=True, startangle=180)\n",
    "\n",
    "#display chart\n",
    "plt.axis(\"equal\")"
   ]
  },
  {
   "cell_type": "markdown",
   "metadata": {},
   "source": [
    "## Analysis for people who matched and their perceptions of the five qualities"
   ]
  },
  {
   "cell_type": "code",
   "execution_count": 116,
   "metadata": {},
   "outputs": [
    {
     "data": {
      "text/html": [
       "<div>\n",
       "<style scoped>\n",
       "    .dataframe tbody tr th:only-of-type {\n",
       "        vertical-align: middle;\n",
       "    }\n",
       "\n",
       "    .dataframe tbody tr th {\n",
       "        vertical-align: top;\n",
       "    }\n",
       "\n",
       "    .dataframe thead th {\n",
       "        text-align: right;\n",
       "    }\n",
       "</style>\n",
       "<table border=\"1\" class=\"dataframe\">\n",
       "  <thead>\n",
       "    <tr style=\"text-align: right;\">\n",
       "      <th></th>\n",
       "      <th>Unique ID</th>\n",
       "      <th>Partner Rating Attractive</th>\n",
       "      <th>Partner Rating Sincere</th>\n",
       "      <th>Partner Rating Intelligence</th>\n",
       "      <th>Partner Rating Fun</th>\n",
       "      <th>Partner Rating Ambition</th>\n",
       "      <th>Own Rating Attractive</th>\n",
       "      <th>Own Rating Sincere</th>\n",
       "      <th>Own Rating Fun</th>\n",
       "      <th>Own Rating Intelligence</th>\n",
       "      <th>Own Rating Ambition</th>\n",
       "    </tr>\n",
       "  </thead>\n",
       "  <tbody>\n",
       "    <tr>\n",
       "      <th>2</th>\n",
       "      <td>1</td>\n",
       "      <td>10.0</td>\n",
       "      <td>10.0</td>\n",
       "      <td>10.0</td>\n",
       "      <td>10.0</td>\n",
       "      <td>10.0</td>\n",
       "      <td>6.0</td>\n",
       "      <td>8.0</td>\n",
       "      <td>8.0</td>\n",
       "      <td>8.0</td>\n",
       "      <td>7.0</td>\n",
       "    </tr>\n",
       "    <tr>\n",
       "      <th>3</th>\n",
       "      <td>1</td>\n",
       "      <td>7.0</td>\n",
       "      <td>8.0</td>\n",
       "      <td>9.0</td>\n",
       "      <td>8.0</td>\n",
       "      <td>9.0</td>\n",
       "      <td>6.0</td>\n",
       "      <td>8.0</td>\n",
       "      <td>8.0</td>\n",
       "      <td>8.0</td>\n",
       "      <td>7.0</td>\n",
       "    </tr>\n",
       "    <tr>\n",
       "      <th>4</th>\n",
       "      <td>1</td>\n",
       "      <td>8.0</td>\n",
       "      <td>7.0</td>\n",
       "      <td>9.0</td>\n",
       "      <td>6.0</td>\n",
       "      <td>9.0</td>\n",
       "      <td>6.0</td>\n",
       "      <td>8.0</td>\n",
       "      <td>8.0</td>\n",
       "      <td>8.0</td>\n",
       "      <td>7.0</td>\n",
       "    </tr>\n",
       "    <tr>\n",
       "      <th>8</th>\n",
       "      <td>1</td>\n",
       "      <td>7.0</td>\n",
       "      <td>7.0</td>\n",
       "      <td>8.0</td>\n",
       "      <td>8.0</td>\n",
       "      <td>8.0</td>\n",
       "      <td>6.0</td>\n",
       "      <td>8.0</td>\n",
       "      <td>8.0</td>\n",
       "      <td>8.0</td>\n",
       "      <td>7.0</td>\n",
       "    </tr>\n",
       "    <tr>\n",
       "      <th>13</th>\n",
       "      <td>2</td>\n",
       "      <td>9.0</td>\n",
       "      <td>9.0</td>\n",
       "      <td>9.0</td>\n",
       "      <td>9.0</td>\n",
       "      <td>9.0</td>\n",
       "      <td>7.0</td>\n",
       "      <td>5.0</td>\n",
       "      <td>10.0</td>\n",
       "      <td>8.0</td>\n",
       "      <td>3.0</td>\n",
       "    </tr>\n",
       "    <tr>\n",
       "      <th>...</th>\n",
       "      <td>...</td>\n",
       "      <td>...</td>\n",
       "      <td>...</td>\n",
       "      <td>...</td>\n",
       "      <td>...</td>\n",
       "      <td>...</td>\n",
       "      <td>...</td>\n",
       "      <td>...</td>\n",
       "      <td>...</td>\n",
       "      <td>...</td>\n",
       "      <td>...</td>\n",
       "    </tr>\n",
       "    <tr>\n",
       "      <th>6795</th>\n",
       "      <td>552</td>\n",
       "      <td>10.0</td>\n",
       "      <td>9.0</td>\n",
       "      <td>9.0</td>\n",
       "      <td>8.0</td>\n",
       "      <td>7.0</td>\n",
       "      <td>8.0</td>\n",
       "      <td>7.0</td>\n",
       "      <td>6.0</td>\n",
       "      <td>7.0</td>\n",
       "      <td>7.0</td>\n",
       "    </tr>\n",
       "    <tr>\n",
       "      <th>6798</th>\n",
       "      <td>552</td>\n",
       "      <td>7.0</td>\n",
       "      <td>6.0</td>\n",
       "      <td>7.0</td>\n",
       "      <td>7.0</td>\n",
       "      <td>6.0</td>\n",
       "      <td>8.0</td>\n",
       "      <td>7.0</td>\n",
       "      <td>6.0</td>\n",
       "      <td>7.0</td>\n",
       "      <td>7.0</td>\n",
       "    </tr>\n",
       "    <tr>\n",
       "      <th>6800</th>\n",
       "      <td>552</td>\n",
       "      <td>7.0</td>\n",
       "      <td>7.0</td>\n",
       "      <td>8.0</td>\n",
       "      <td>7.0</td>\n",
       "      <td>7.0</td>\n",
       "      <td>8.0</td>\n",
       "      <td>7.0</td>\n",
       "      <td>6.0</td>\n",
       "      <td>7.0</td>\n",
       "      <td>7.0</td>\n",
       "    </tr>\n",
       "    <tr>\n",
       "      <th>6801</th>\n",
       "      <td>552</td>\n",
       "      <td>7.0</td>\n",
       "      <td>7.0</td>\n",
       "      <td>7.0</td>\n",
       "      <td>8.0</td>\n",
       "      <td>7.0</td>\n",
       "      <td>8.0</td>\n",
       "      <td>7.0</td>\n",
       "      <td>6.0</td>\n",
       "      <td>7.0</td>\n",
       "      <td>7.0</td>\n",
       "    </tr>\n",
       "    <tr>\n",
       "      <th>6809</th>\n",
       "      <td>552</td>\n",
       "      <td>8.0</td>\n",
       "      <td>6.0</td>\n",
       "      <td>7.0</td>\n",
       "      <td>7.0</td>\n",
       "      <td>6.0</td>\n",
       "      <td>8.0</td>\n",
       "      <td>7.0</td>\n",
       "      <td>6.0</td>\n",
       "      <td>7.0</td>\n",
       "      <td>7.0</td>\n",
       "    </tr>\n",
       "  </tbody>\n",
       "</table>\n",
       "<p>1124 rows × 11 columns</p>\n",
       "</div>"
      ],
      "text/plain": [
       "      Unique ID  Partner Rating Attractive  Partner Rating Sincere  \\\n",
       "2             1                       10.0                    10.0   \n",
       "3             1                        7.0                     8.0   \n",
       "4             1                        8.0                     7.0   \n",
       "8             1                        7.0                     7.0   \n",
       "13            2                        9.0                     9.0   \n",
       "...         ...                        ...                     ...   \n",
       "6795        552                       10.0                     9.0   \n",
       "6798        552                        7.0                     6.0   \n",
       "6800        552                        7.0                     7.0   \n",
       "6801        552                        7.0                     7.0   \n",
       "6809        552                        8.0                     6.0   \n",
       "\n",
       "      Partner Rating Intelligence  Partner Rating Fun  \\\n",
       "2                            10.0                10.0   \n",
       "3                             9.0                 8.0   \n",
       "4                             9.0                 6.0   \n",
       "8                             8.0                 8.0   \n",
       "13                            9.0                 9.0   \n",
       "...                           ...                 ...   \n",
       "6795                          9.0                 8.0   \n",
       "6798                          7.0                 7.0   \n",
       "6800                          8.0                 7.0   \n",
       "6801                          7.0                 8.0   \n",
       "6809                          7.0                 7.0   \n",
       "\n",
       "      Partner Rating Ambition  Own Rating Attractive  Own Rating Sincere  \\\n",
       "2                        10.0                    6.0                 8.0   \n",
       "3                         9.0                    6.0                 8.0   \n",
       "4                         9.0                    6.0                 8.0   \n",
       "8                         8.0                    6.0                 8.0   \n",
       "13                        9.0                    7.0                 5.0   \n",
       "...                       ...                    ...                 ...   \n",
       "6795                      7.0                    8.0                 7.0   \n",
       "6798                      6.0                    8.0                 7.0   \n",
       "6800                      7.0                    8.0                 7.0   \n",
       "6801                      7.0                    8.0                 7.0   \n",
       "6809                      6.0                    8.0                 7.0   \n",
       "\n",
       "      Own Rating Fun  Own Rating Intelligence  Own Rating Ambition  \n",
       "2                8.0                      8.0                  7.0  \n",
       "3                8.0                      8.0                  7.0  \n",
       "4                8.0                      8.0                  7.0  \n",
       "8                8.0                      8.0                  7.0  \n",
       "13              10.0                      8.0                  3.0  \n",
       "...              ...                      ...                  ...  \n",
       "6795             6.0                      7.0                  7.0  \n",
       "6798             6.0                      7.0                  7.0  \n",
       "6800             6.0                      7.0                  7.0  \n",
       "6801             6.0                      7.0                  7.0  \n",
       "6809             6.0                      7.0                  7.0  \n",
       "\n",
       "[1124 rows x 11 columns]"
      ]
     },
     "execution_count": 116,
     "metadata": {},
     "output_type": "execute_result"
    }
   ],
   "source": [
    "#Isolate the matched data using the loc function to pull out the matched signifier of \"1\"\n",
    "matched_df = dating_data.loc[(dating_data[\"Match\"]==1)]\n",
    "\n",
    "#Create a data frame \n",
    "matched_clean = matched_df[[\"Unique ID\", \"Partner Rating Attractive\", \"Partner Rating Sincere\",\n",
    "                    \"Partner Rating Intelligence\", \"Partner Rating Fun\", \"Partner Rating Ambition\",\n",
    "                    \"Own Rating Attractive\", \"Own Rating Sincere\", \"Own Rating Fun\", \"Own Rating Intelligence\",\n",
    "                    \"Own Rating Ambition\"]]\n",
    "\n",
    "#Display the dataframe to verify\n",
    "matched_clean"
   ]
  },
  {
   "cell_type": "markdown",
   "metadata": {},
   "source": [
    "### Ratings of Attractiveness for both participant and partner on a scale of 1-10\n",
    "The histograms for a participant's own ratings and for ratings of partners attractiveness are both unimodal. While the participants' personal ratings are skewed positively, their ratings of their partners are skewed more negatively. However based on the most frequent score used in both datasets, participants more frequently rated their partners as more attractive than themselves. "
   ]
  },
  {
   "cell_type": "code",
   "execution_count": 453,
   "metadata": {},
   "outputs": [
    {
     "data": {
      "image/png": "[encoded data removed]",
      "text/plain": [
       "<Figure size 432x288 with 2 Axes>"
      ]
     },
     "metadata": {
      "needs_background": "light"
     },
     "output_type": "display_data"
    }
   ],
   "source": [
    "#Desginate variables for the specific columns needed to isolate attractiveness rating and find the mean for each\n",
    "attractive_s = matched_clean.groupby([\"Unique ID\"]).mean()[\"Own Rating Attractive\"]\n",
    "attractive_p = matched_clean.groupby([\"Unique ID\"]).mean()[\"Partner Rating Attractive\"]\n",
    "\n",
    "#Create a dataframe using a dictionary of the variables and what you'd like the graph titles to be\n",
    "attract_df = pd.DataFrame({\"Personal Attractiveness\" : attractive_s, \n",
    "                                \"Partner Attractiveness\" : attractive_p})\n",
    "\n",
    "#Create subplots to easily show and compare the data, have the charts share both x and y axes for \n",
    "fig, axes = plt.subplots(1,2, sharex=True, sharey=True)\n",
    "\n",
    "#Individually specify the aesthetics of each plot. Designate the type of plot (histogram), which variable to chart, \n",
    "# which subplot to use, and what color each should be\n",
    "attract_df.hist(\"Personal Attractiveness\", ax=axes[0], color=\"Green\")\n",
    "attract_df.hist(\"Partner Attractiveness\", ax=axes[1], color=\"Orange\")\n",
    "\n",
    "#Display your charts\n",
    "plt.show()\n",
    "\n",
    "#Save the images to a separate folder in you repository\n",
    "fig.savefig('output/Q1_images/Q1_fig_1.png')"
   ]
  },
  {
   "cell_type": "markdown",
   "metadata": {},
   "source": [
    "### Ratings of Sincerity for both participant and partner\n",
    "The histograms for a participant's own ratings and for ratings of partners sincerity are both unimodal. While the participants' personal ratings are skewed positively, their ratings of their partners are slightly more normally distrubuted. Both participants and partners were rated high in sincerity but partner ratings had a more frequent rating of 8. "
   ]
  },
  {
   "cell_type": "code",
   "execution_count": 454,
   "metadata": {},
   "outputs": [
    {
     "data": {
      "image/png": "[encoded data removed]",
      "text/plain": [
       "<Figure size 432x288 with 2 Axes>"
      ]
     },
     "metadata": {
      "needs_background": "light"
     },
     "output_type": "display_data"
    }
   ],
   "source": [
    "#Desginate variables for the specific columns needed to isolate sincerity rating and find the mean for each\n",
    "sincerity_s = matched_clean.groupby([\"Unique ID\"]).mean()[\"Own Rating Sincere\"]\n",
    "sincerity_p = matched_clean.groupby([\"Unique ID\"]).mean()[\"Partner Rating Sincere\"]\n",
    "\n",
    "#Create a dataframe using a dictionary of the variables and what you'd like the graph titles to be\n",
    "sincere_df = pd.DataFrame({\"Personal Sincerity\" : sincerity_s, \n",
    "                                \"Partner Sincerity\" : sincerity_p})\n",
    "\n",
    "#Create subplots to easily show and compare the data, have the charts share both x and y axes for\n",
    "fig, axes = plt.subplots(1,2, sharex=True, sharey=True)\n",
    "\n",
    "#Individually specify the aesthetics of each plot. Designate the type of plot (histogram), which variable to chart, \n",
    "# which subplot to use, and what color each should be\n",
    "sincere_df.hist(\"Personal Sincerity\", ax=axes[0], color=\"Green\")\n",
    "sincere_df.hist(\"Partner Sincerity\", ax=axes[1], color=\"Orange\")\n",
    "\n",
    "#Display your charts\n",
    "plt.show()\n",
    "\n",
    "#Save the images to a separate folder in you repository\n",
    "fig.savefig('output/Q1_images/Q1_fig_2.png')"
   ]
  },
  {
   "cell_type": "markdown",
   "metadata": {},
   "source": [
    "### Ratings of Intelligence for both participant and partner\n",
    "The histograms for a participant's own ratings and for ratings of partners intelligence are both unimodal. While the participants' personal ratings are skewed  very positively, with the majority scoring 8 or higher, their ratings of their partners are slightly more normally distrubuted. Personal ratings were higher than partner ratings but partners were given a more frequent rating higher than 8. "
   ]
  },
  {
   "cell_type": "code",
   "execution_count": 455,
   "metadata": {},
   "outputs": [
    {
     "data": {
      "image/png": "[encoded data removed]",
      "text/plain": [
       "<Figure size 432x288 with 2 Axes>"
      ]
     },
     "metadata": {
      "needs_background": "light"
     },
     "output_type": "display_data"
    }
   ],
   "source": [
    "#Desginate variables for the specific columns needed to isolate intelligence rating and find the mean for each\n",
    "intell_s = matched_clean.groupby([\"Unique ID\"]).mean()[\"Own Rating Intelligence\"]\n",
    "intell_p = matched_clean.groupby([\"Unique ID\"]).mean()[\"Partner Rating Intelligence\"]\n",
    "\n",
    "#Create a dataframe using a dictionary of the variables and what you'd like the graph titles to be\n",
    "intell_df = pd.DataFrame({\"Personal Intelligence\" : intell_s, \n",
    "                                \"Partner Intelligence\" : intell_p})\n",
    "\n",
    "#Create subplots to easily show and compare the data, have the charts share both x and y axes for\n",
    "fig, axes = plt.subplots(1,2, sharex=True, sharey=True)\n",
    "\n",
    "#Individually specify the aesthetics of each plot. Designate the type of plot (histogram), which variable to chart, \n",
    "# which subplot to use, and what color each should be\n",
    "intell_df.hist(\"Personal Intelligence\", ax=axes[0], color=\"Green\")\n",
    "intell_df.hist(\"Partner Intelligence\", ax=axes[1], color=\"Orange\")\n",
    "\n",
    "#Display your charts\n",
    "plt.show()\n",
    "\n",
    "#Save the images to a separate folder in you repository\n",
    "fig.savefig('output/Q1_images/Q1_fig_3.png')"
   ]
  },
  {
   "cell_type": "markdown",
   "metadata": {},
   "source": [
    "### Ratings of Fun for both participant and partner\n",
    "The histograms for a participant's own ratings and for ratings of partners fun are both unimodal. Both the personal and partner ratings are relatively normally distributed, Personal ratings were higher slightly higher in frequency than their ratings of partners."
   ]
  },
  {
   "cell_type": "code",
   "execution_count": 456,
   "metadata": {},
   "outputs": [
    {
     "data": {
      "image/png": "[encoded data removed]",
      "text/plain": [
       "<Figure size 432x288 with 2 Axes>"
      ]
     },
     "metadata": {
      "needs_background": "light"
     },
     "output_type": "display_data"
    }
   ],
   "source": [
    "#Desginate variables for the specific columns needed to isolate fun rating and find the mean for each\n",
    "fun_s = matched_clean.groupby([\"Unique ID\"]).mean()[\"Own Rating Fun\"]\n",
    "fun_p = matched_clean.groupby([\"Unique ID\"]).mean()[\"Partner Rating Fun\"]\n",
    "\n",
    "#Create a dataframe using a dictionary of the variables and what you'd like the graph titles to be\n",
    "fun_df = pd.DataFrame({\"Personal Fun\" : fun_s, \n",
    "                                \"Partner Fun\" : fun_p})\n",
    "\n",
    "#Create subplots to easily show and compare the data, have the charts share both x and y axes for\n",
    "fig, axes = plt.subplots(1,2, sharex=True, sharey=True)\n",
    "\n",
    "#Individually specify the aesthetics of each plot. Designate the type of plot (histogram), which variable to chart, \n",
    "# which subplot to use, and what color each should be\n",
    "fun_df.hist(\"Personal Fun\", ax=axes[0], color=\"Green\")\n",
    "fun_df.hist(\"Partner Fun\", ax=axes[1], color=\"Orange\")\n",
    "\n",
    "#Display your charts\n",
    "plt.show()\n",
    "\n",
    "#Save the images to a separate folder in you repository\n",
    "fig.savefig('output/Q1_images/Q1_fig_4.png')"
   ]
  },
  {
   "cell_type": "markdown",
   "metadata": {},
   "source": [
    "### Ratings of Ambition for both participant and partner\n",
    "The ambition histogram for a participant's personal ratings is unimodal whereas their partner's histogram is bimodal. The participants' histogram is more positively skewed and the partner's data is more normally distributed. Participants viewed their partners as slightly more or just slightly less ambitious than themselves.  "
   ]
  },
  {
   "cell_type": "code",
   "execution_count": 457,
   "metadata": {},
   "outputs": [
    {
     "data": {
      "image/png": "[encoded data removed]",
      "text/plain": [
       "<Figure size 432x288 with 2 Axes>"
      ]
     },
     "metadata": {
      "needs_background": "light"
     },
     "output_type": "display_data"
    }
   ],
   "source": [
    "#Desginate variables for the specific columns needed to isolate ambition rating and find the mean for each\n",
    "ambition_s = matched_clean.groupby([\"Unique ID\"]).mean()[\"Own Rating Ambition\"]\n",
    "ambition_p = matched_clean.groupby([\"Unique ID\"]).mean()[\"Partner Rating Ambition\"]\n",
    "\n",
    "#Create a dataframe using a dictionary of the variables and what you'd like the graph titles to be\n",
    "ambition_df= pd.DataFrame({\"Personal Ambition\" : ambition_s, \n",
    "                                \"Partner Ambition\" : ambition_p})\n",
    "\n",
    "#Create subplots to easily show and compare the data, have the charts share both x and y axes for\n",
    "fig, axes = plt.subplots(1,2, sharex=True, sharey=True)\n",
    "\n",
    "#Individually specify the aesthetics of each plot. Designate the type of plot (histogram), which variable to chart, \n",
    "# which subplot to use, and what color each should be\n",
    "ambition_df.hist(\"Personal Ambition\", ax=axes[0], color=\"Green\")\n",
    "ambition_df.hist(\"Partner Ambition\", ax=axes[1], color=\"Orange\")\n",
    "\n",
    "#Display your charts\n",
    "plt.show()\n",
    "\n",
    "#Save the images to a separate folder in you repository\n",
    "fig.savefig('output/Q1_images/Q1_fig_5.png')"
   ]
  },
  {
   "cell_type": "markdown",
   "metadata": {},
   "source": [
    "## Analysis for people who matched and their perceptions of the five qualities\n",
    "Of the partipants that did not matched with partners at the end of the night, how did they rate themselves on a scale of 1-10 in each specific quality as compared to their partners?"
   ]
  },
  {
   "cell_type": "code",
   "execution_count": 77,
   "metadata": {},
   "outputs": [
    {
     "data": {
      "text/html": [
       "<div>\n",
       "<style scoped>\n",
       "    .dataframe tbody tr th:only-of-type {\n",
       "        vertical-align: middle;\n",
       "    }\n",
       "\n",
       "    .dataframe tbody tr th {\n",
       "        vertical-align: top;\n",
       "    }\n",
       "\n",
       "    .dataframe thead th {\n",
       "        text-align: right;\n",
       "    }\n",
       "</style>\n",
       "<table border=\"1\" class=\"dataframe\">\n",
       "  <thead>\n",
       "    <tr style=\"text-align: right;\">\n",
       "      <th></th>\n",
       "      <th>Unique ID</th>\n",
       "      <th>Partner Rating Attractive</th>\n",
       "      <th>Partner Rating Sincere</th>\n",
       "      <th>Partner Rating Intelligence</th>\n",
       "      <th>Partner Rating Fun</th>\n",
       "      <th>Partner Rating Ambition</th>\n",
       "      <th>Own Rating Attractive</th>\n",
       "      <th>Own Rating Sincere</th>\n",
       "      <th>Own Rating Fun</th>\n",
       "      <th>Own Rating Intelligence</th>\n",
       "      <th>Own Rating Ambition</th>\n",
       "    </tr>\n",
       "  </thead>\n",
       "  <tbody>\n",
       "    <tr>\n",
       "      <th>0</th>\n",
       "      <td>1</td>\n",
       "      <td>6.0</td>\n",
       "      <td>8.0</td>\n",
       "      <td>8.0</td>\n",
       "      <td>8.0</td>\n",
       "      <td>8.0</td>\n",
       "      <td>6.0</td>\n",
       "      <td>8.0</td>\n",
       "      <td>8.0</td>\n",
       "      <td>8.0</td>\n",
       "      <td>7.0</td>\n",
       "    </tr>\n",
       "    <tr>\n",
       "      <th>1</th>\n",
       "      <td>1</td>\n",
       "      <td>7.0</td>\n",
       "      <td>8.0</td>\n",
       "      <td>10.0</td>\n",
       "      <td>7.0</td>\n",
       "      <td>7.0</td>\n",
       "      <td>6.0</td>\n",
       "      <td>8.0</td>\n",
       "      <td>8.0</td>\n",
       "      <td>8.0</td>\n",
       "      <td>7.0</td>\n",
       "    </tr>\n",
       "    <tr>\n",
       "      <th>5</th>\n",
       "      <td>1</td>\n",
       "      <td>7.0</td>\n",
       "      <td>7.0</td>\n",
       "      <td>8.0</td>\n",
       "      <td>8.0</td>\n",
       "      <td>7.0</td>\n",
       "      <td>6.0</td>\n",
       "      <td>8.0</td>\n",
       "      <td>8.0</td>\n",
       "      <td>8.0</td>\n",
       "      <td>7.0</td>\n",
       "    </tr>\n",
       "    <tr>\n",
       "      <th>6</th>\n",
       "      <td>1</td>\n",
       "      <td>3.0</td>\n",
       "      <td>6.0</td>\n",
       "      <td>7.0</td>\n",
       "      <td>5.0</td>\n",
       "      <td>8.0</td>\n",
       "      <td>6.0</td>\n",
       "      <td>8.0</td>\n",
       "      <td>8.0</td>\n",
       "      <td>8.0</td>\n",
       "      <td>7.0</td>\n",
       "    </tr>\n",
       "    <tr>\n",
       "      <th>7</th>\n",
       "      <td>1</td>\n",
       "      <td>6.0</td>\n",
       "      <td>7.0</td>\n",
       "      <td>5.0</td>\n",
       "      <td>6.0</td>\n",
       "      <td>8.0</td>\n",
       "      <td>6.0</td>\n",
       "      <td>8.0</td>\n",
       "      <td>8.0</td>\n",
       "      <td>8.0</td>\n",
       "      <td>7.0</td>\n",
       "    </tr>\n",
       "    <tr>\n",
       "      <th>...</th>\n",
       "      <td>...</td>\n",
       "      <td>...</td>\n",
       "      <td>...</td>\n",
       "      <td>...</td>\n",
       "      <td>...</td>\n",
       "      <td>...</td>\n",
       "      <td>...</td>\n",
       "      <td>...</td>\n",
       "      <td>...</td>\n",
       "      <td>...</td>\n",
       "      <td>...</td>\n",
       "    </tr>\n",
       "    <tr>\n",
       "      <th>6811</th>\n",
       "      <td>552</td>\n",
       "      <td>10.0</td>\n",
       "      <td>5.0</td>\n",
       "      <td>3.0</td>\n",
       "      <td>2.0</td>\n",
       "      <td>6.0</td>\n",
       "      <td>8.0</td>\n",
       "      <td>7.0</td>\n",
       "      <td>6.0</td>\n",
       "      <td>7.0</td>\n",
       "      <td>7.0</td>\n",
       "    </tr>\n",
       "    <tr>\n",
       "      <th>6812</th>\n",
       "      <td>552</td>\n",
       "      <td>6.0</td>\n",
       "      <td>3.0</td>\n",
       "      <td>7.0</td>\n",
       "      <td>3.0</td>\n",
       "      <td>7.0</td>\n",
       "      <td>8.0</td>\n",
       "      <td>7.0</td>\n",
       "      <td>6.0</td>\n",
       "      <td>7.0</td>\n",
       "      <td>7.0</td>\n",
       "    </tr>\n",
       "    <tr>\n",
       "      <th>6813</th>\n",
       "      <td>552</td>\n",
       "      <td>2.0</td>\n",
       "      <td>1.0</td>\n",
       "      <td>2.0</td>\n",
       "      <td>2.0</td>\n",
       "      <td>2.0</td>\n",
       "      <td>8.0</td>\n",
       "      <td>7.0</td>\n",
       "      <td>6.0</td>\n",
       "      <td>7.0</td>\n",
       "      <td>7.0</td>\n",
       "    </tr>\n",
       "    <tr>\n",
       "      <th>6814</th>\n",
       "      <td>552</td>\n",
       "      <td>5.0</td>\n",
       "      <td>7.0</td>\n",
       "      <td>5.0</td>\n",
       "      <td>5.0</td>\n",
       "      <td>3.0</td>\n",
       "      <td>8.0</td>\n",
       "      <td>7.0</td>\n",
       "      <td>6.0</td>\n",
       "      <td>7.0</td>\n",
       "      <td>7.0</td>\n",
       "    </tr>\n",
       "    <tr>\n",
       "      <th>6815</th>\n",
       "      <td>552</td>\n",
       "      <td>8.0</td>\n",
       "      <td>8.0</td>\n",
       "      <td>7.0</td>\n",
       "      <td>7.0</td>\n",
       "      <td>7.0</td>\n",
       "      <td>8.0</td>\n",
       "      <td>7.0</td>\n",
       "      <td>6.0</td>\n",
       "      <td>7.0</td>\n",
       "      <td>7.0</td>\n",
       "    </tr>\n",
       "  </tbody>\n",
       "</table>\n",
       "<p>5692 rows × 11 columns</p>\n",
       "</div>"
      ],
      "text/plain": [
       "      Unique ID  Partner Rating Attractive  Partner Rating Sincere  \\\n",
       "0             1                        6.0                     8.0   \n",
       "1             1                        7.0                     8.0   \n",
       "5             1                        7.0                     7.0   \n",
       "6             1                        3.0                     6.0   \n",
       "7             1                        6.0                     7.0   \n",
       "...         ...                        ...                     ...   \n",
       "6811        552                       10.0                     5.0   \n",
       "6812        552                        6.0                     3.0   \n",
       "6813        552                        2.0                     1.0   \n",
       "6814        552                        5.0                     7.0   \n",
       "6815        552                        8.0                     8.0   \n",
       "\n",
       "      Partner Rating Intelligence  Partner Rating Fun  \\\n",
       "0                             8.0                 8.0   \n",
       "1                            10.0                 7.0   \n",
       "5                             8.0                 8.0   \n",
       "6                             7.0                 5.0   \n",
       "7                             5.0                 6.0   \n",
       "...                           ...                 ...   \n",
       "6811                          3.0                 2.0   \n",
       "6812                          7.0                 3.0   \n",
       "6813                          2.0                 2.0   \n",
       "6814                          5.0                 5.0   \n",
       "6815                          7.0                 7.0   \n",
       "\n",
       "      Partner Rating Ambition  Own Rating Attractive  Own Rating Sincere  \\\n",
       "0                         8.0                    6.0                 8.0   \n",
       "1                         7.0                    6.0                 8.0   \n",
       "5                         7.0                    6.0                 8.0   \n",
       "6                         8.0                    6.0                 8.0   \n",
       "7                         8.0                    6.0                 8.0   \n",
       "...                       ...                    ...                 ...   \n",
       "6811                      6.0                    8.0                 7.0   \n",
       "6812                      7.0                    8.0                 7.0   \n",
       "6813                      2.0                    8.0                 7.0   \n",
       "6814                      3.0                    8.0                 7.0   \n",
       "6815                      7.0                    8.0                 7.0   \n",
       "\n",
       "      Own Rating Fun  Own Rating Intelligence  Own Rating Ambition  \n",
       "0                8.0                      8.0                  7.0  \n",
       "1                8.0                      8.0                  7.0  \n",
       "5                8.0                      8.0                  7.0  \n",
       "6                8.0                      8.0                  7.0  \n",
       "7                8.0                      8.0                  7.0  \n",
       "...              ...                      ...                  ...  \n",
       "6811             6.0                      7.0                  7.0  \n",
       "6812             6.0                      7.0                  7.0  \n",
       "6813             6.0                      7.0                  7.0  \n",
       "6814             6.0                      7.0                  7.0  \n",
       "6815             6.0                      7.0                  7.0  \n",
       "\n",
       "[5692 rows x 11 columns]"
      ]
     },
     "execution_count": 77,
     "metadata": {},
     "output_type": "execute_result"
    }
   ],
   "source": [
    "#Isolate the unmatched data using the loc function to pull out the unmatched signifier of \"0\"\n",
    "unmatched_df = dating_data.loc[(dating_data[\"Match\"]==0)]\n",
    "\n",
    "#Create a data frame \n",
    "unmatched_clean = unmatched_df[[\"Unique ID\", \"Partner Rating Attractive\", \"Partner Rating Sincere\",\n",
    "                    \"Partner Rating Intelligence\", \"Partner Rating Fun\", \"Partner Rating Ambition\",\n",
    "                    \"Own Rating Attractive\", \"Own Rating Sincere\", \"Own Rating Fun\", \"Own Rating Intelligence\",\n",
    "                    \"Own Rating Ambition\"]]\n",
    "\n",
    "#Display the dataframe to verify\n",
    "unmatched_clean"
   ]
  },
  {
   "cell_type": "markdown",
   "metadata": {},
   "source": [
    "### Ratings of Attractivenesss for both participant and partner\n",
    "The histograms for unmatched participants and their partners an unimodal with participants rating themselves in a positively skewed way with a lot fo frequency around 7. Partipants rated their partners in a more normally distributed way with significantly lower scores with the majority occuring around a 6 or less. "
   ]
  },
  {
   "cell_type": "code",
   "execution_count": 458,
   "metadata": {},
   "outputs": [
    {
     "data": {
      "image/png": "[encoded data removed]",
      "text/plain": [
       "<Figure size 432x288 with 2 Axes>"
      ]
     },
     "metadata": {
      "needs_background": "light"
     },
     "output_type": "display_data"
    }
   ],
   "source": [
    "#Desginate variables for the specific columns needed to isolate attractiveness rating and find the mean for each\n",
    "attract_s = unmatched_clean.groupby([\"Unique ID\"]).mean()[\"Own Rating Attractive\"]\n",
    "attract_p = unmatched_clean.groupby([\"Unique ID\"]).mean()[\"Partner Rating Attractive\"]\n",
    "\n",
    "#Create a dataframe using a dictionary of the variables and what you'd like the graph titles to be\n",
    "unattract_df= pd.DataFrame({\"Personal Attractiveness\" : attract_s, \n",
    "                                \"Partner Attractiveness\" : attract_p})\n",
    "\n",
    "#Create subplots to easily show and compare the data, have the charts share both x and y axes for\n",
    "fig, axes = plt.subplots(1,2, sharex=True, sharey=True)\n",
    "\n",
    "#Individually specify the aesthetics of each plot. Designate the type of plot (histogram), which variable to chart, \n",
    "# which subplot to use, and what color each should be\n",
    "unattract_df.hist(\"Personal Attractiveness\", ax=axes[0], color=\"red\")\n",
    "unattract_df.hist(\"Partner Attractiveness\", ax=axes[1], color=\"purple\")\n",
    "\n",
    "#Display your charts\n",
    "plt.show()\n",
    "\n",
    "#Save the images to a separate folder in you repository\n",
    "fig.savefig('output/Q1_images/Q1_fig_6.png')"
   ]
  },
  {
   "cell_type": "markdown",
   "metadata": {},
   "source": [
    "### Ratings of Sincerity for both participant and partner\n",
    "The histograms for sincerity saw participants rating themselves with a positive skew, the highest frequency of rating around 8. Conversely they rated their partners only slightly less with a score less than 7.5. The histograms are both unimodal."
   ]
  },
  {
   "cell_type": "code",
   "execution_count": 459,
   "metadata": {},
   "outputs": [
    {
     "data": {
      "image/png": "[encoded data removed]",
      "text/plain": [
       "<Figure size 432x288 with 2 Axes>"
      ]
     },
     "metadata": {
      "needs_background": "light"
     },
     "output_type": "display_data"
    }
   ],
   "source": [
    "#Desginate variables for the specific columns needed to isolate sincerity rating and find the mean for each\n",
    "unsincere_s = unmatched_clean.groupby([\"Unique ID\"]).mean()[\"Own Rating Sincere\"]\n",
    "unsincere_p = unmatched_clean.groupby([\"Unique ID\"]).mean()[\"Partner Rating Sincere\"]\n",
    "\n",
    "#Create a dataframe using a dictionary of the variables and what you'd like the graph titles to be\n",
    "insincere_df= pd.DataFrame({\"Personal Sincerity\" : unsincere_s, \n",
    "                                \"Partner Sincerity\" : unsincere_p})\n",
    "\n",
    "#Create subplots to easily show and compare the data, have the charts share both x and y axes for\n",
    "fig, axes = plt.subplots(1,2, sharex=True, sharey=True)\n",
    "\n",
    "#Individually specify the aesthetics of each plot. Designate the type of plot (histogram), which variable to chart, \n",
    "# which subplot to use, and what color each should be\n",
    "insincere_df.hist(\"Personal Sincerity\", ax=axes[0], color=\"red\")\n",
    "insincere_df.hist(\"Partner Sincerity\", ax=axes[1], color=\"purple\")\n",
    "\n",
    "#Display your charts\n",
    "plt.show()\n",
    "\n",
    "#Save the images to a separate folder in you repository\n",
    "fig.savefig('output/Q1_images/Q1_fig_7.png')"
   ]
  },
  {
   "cell_type": "markdown",
   "metadata": {},
   "source": [
    "### Ratings of Intelligence for both participant and partner\n",
    "The histograms for intelligence demonstrate the participants valued themselves high and their partners, slightly less. "
   ]
  },
  {
   "cell_type": "code",
   "execution_count": 463,
   "metadata": {},
   "outputs": [
    {
     "data": {
      "image/png": "[encoded data removed]",
      "text/plain": [
       "<Figure size 432x288 with 2 Axes>"
      ]
     },
     "metadata": {
      "needs_background": "light"
     },
     "output_type": "display_data"
    }
   ],
   "source": [
    "#Desginate variables for the specific columns needed to isolate intelligence rating and find the mean for each\n",
    "unintell_s = unmatched_clean.groupby([\"Unique ID\"]).mean()[\"Own Rating Intelligence\"]\n",
    "unintell_p = unmatched_clean.groupby([\"Unique ID\"]).mean()[\"Partner Rating Intelligence\"]\n",
    "\n",
    "#Create a dataframe using a dictionary of the variables and what you'd like the graph titles to be\n",
    "unintell_df= pd.DataFrame({\"Personal Intelligence\" : unintell_s, \n",
    "                                \"Partner Intelligence\" : unintell_p})\n",
    "\n",
    "#Create subplots to easily show and compare the data, have the charts share both x and y axes for\n",
    "fig, axes = plt.subplots(1,2, sharex=True, sharey=True)\n",
    "\n",
    "#Individually specify the aesthetics of each plot. Designate the type of plot (histogram), which variable to chart, \n",
    "# which subplot to use, and what color each should be\n",
    "unintell_df.hist(\"Personal Intelligence\", ax=axes[0], color=\"red\")\n",
    "unintell_df.hist(\"Partner Intelligence\", ax=axes[1], color=\"purple\")\n",
    "\n",
    "#Display your charts\n",
    "plt.show()\n",
    "\n",
    "#Save the images to a separate folder in you repository\n",
    "fig.savefig('output/Q1_images/Q1_fig_8.png')"
   ]
  },
  {
   "cell_type": "markdown",
   "metadata": {},
   "source": [
    "### Ratings of Fun for both participant and partner\n",
    "Both histograms for participant and parnter fun are relatively normally distrubuted in a unimodal frame; with the partner fun ratings less high as personal ratings. "
   ]
  },
  {
   "cell_type": "code",
   "execution_count": 461,
   "metadata": {},
   "outputs": [
    {
     "data": {
      "image/png": "[encoded data removed]",
      "text/plain": [
       "<Figure size 432x288 with 2 Axes>"
      ]
     },
     "metadata": {
      "needs_background": "light"
     },
     "output_type": "display_data"
    }
   ],
   "source": [
    "#Desginate variables for the specific columns needed to isolate fun rating and find the mean for each\n",
    "unfunny_s = unmatched_clean.groupby([\"Unique ID\"]).mean()[\"Own Rating Fun\"]\n",
    "unfunny_p = unmatched_clean.groupby([\"Unique ID\"]).mean()[\"Partner Rating Fun\"]\n",
    "\n",
    "#Create a dataframe using a dictionary of the variables and what you'd like the graph titles to be\n",
    "unfunny_df = pd.DataFrame({\"Personal Fun\" : unfunny_s, \n",
    "                                \"Partner Fun\" : unfunny_p})\n",
    "\n",
    "#Create subplots to easily show and compare the data, have the charts share both x and y axes for\n",
    "fig, axes = plt.subplots(1,2, sharex=True, sharey=True)\n",
    "\n",
    "#Individually specify the aesthetics of each plot. Designate the type of plot (histogram), which variable to chart, \n",
    "# which subplot to use, and what color each should be\n",
    "unfunny_df.hist(\"Personal Fun\", ax=axes[0], color=\"red\")\n",
    "unfunny_df.hist(\"Partner Fun\", ax=axes[1], color=\"purple\")\n",
    "\n",
    "#Display your charts\n",
    "plt.show()\n",
    "#Save the images to a separate folder in you repository\n",
    "fig.savefig('output/Q1_images/Q1_fig_9.png')"
   ]
  },
  {
   "cell_type": "markdown",
   "metadata": {},
   "source": [
    "### Ratings of Ambition for both participant and partner\n",
    "The ambition historgrams for participants and their partners show participants view their partners as less ambitious than themselves in a unimodal dataset with the partner amibiton ratings relatively normally distributed. "
   ]
  },
  {
   "cell_type": "code",
   "execution_count": 462,
   "metadata": {},
   "outputs": [
    {
     "data": {
      "image/png": "[encoded data removed]",
      "text/plain": [
       "<Figure size 432x288 with 2 Axes>"
      ]
     },
     "metadata": {
      "needs_background": "light"
     },
     "output_type": "display_data"
    }
   ],
   "source": [
    "#Desginate variables for the specific columns needed to isolate ambition rating and find the mean for each\n",
    "unambit_s = unmatched_clean.groupby([\"Unique ID\"]).mean()[\"Own Rating Ambition\"]\n",
    "unambit_p = unmatched_clean.groupby([\"Unique ID\"]).mean()[\"Partner Rating Ambition\"]\n",
    "\n",
    "#Create a dataframe using a dictionary of the variables and what you'd like the graph titles to be\n",
    "unambitious_df = pd.DataFrame({\"Personal Ambition\" : unambit_s, \n",
    "                                \"Partner Ambition\" : unambit_p})\n",
    "\n",
    "#Create subplots to easily show and compare the data, have the charts share both x and y axes for\n",
    "fig, axes = plt.subplots(1,2, sharex=True, sharey=True)\n",
    "\n",
    "#Individually specify the aesthetics of each plot. Designate the type of plot (histogram), which variable to chart, \n",
    "# which subplot to use, and what color each should be\n",
    "unambitious_df.hist(\"Personal Ambition\", ax=axes[0], color=\"red\")\n",
    "unambitious_df.hist(\"Partner Ambition\", ax=axes[1], color=\"purple\")\n",
    "\n",
    "#Display your charts\n",
    "plt.show()\n",
    "\n",
    "#Save the images to a separate folder in you repository\n",
    "fig.savefig('output/Q1_images/Q1_fig_10.png')\n"
   ]
  }
 ],
 "metadata": {
  "kernelspec": {
   "display_name": "Python 3.6.13 ('pythondata')",
   "language": "python",
   "name": "python3"
  },
  "language_info": {
   "codemirror_mode": {
    "name": "ipython",
    "version": 3
   },
   "file_extension": ".py",
   "mimetype": "text/x-python",
   "name": "python",
   "nbconvert_exporter": "python",
   "pygments_lexer": "ipython3",
   "version": "3.6.13"
  },
  "orig_nbformat": 4,
  "vscode": {
   "interpreter": {
    "hash": "58dfa9f37b10c574793f38ac96dee52d04d66a1c3f4dc131c4292de169149190"
   }
  }
 },
 "nbformat": 4,
 "nbformat_minor": 2
}
